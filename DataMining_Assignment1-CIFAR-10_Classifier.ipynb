{
 "cells": [
  {
   "cell_type": "markdown",
   "id": "67a6f47a",
   "metadata": {},
   "source": [
    "First we import the data and PyTorch libraries required"
   ]
  },
  {
   "cell_type": "code",
   "execution_count": null,
   "id": "744ca65a",
   "metadata": {},
   "outputs": [],
   "source": [
    "import torch\n",
    "import torchvision\n",
    "import torchvision.transforms as transforms"
   ]
  },
  {
   "cell_type": "markdown",
   "id": "b9b5de76",
   "metadata": {},
   "source": [
    "After downloading and uploading the CIFAR-10 data images, we then divide the dataset into train and test sets."
   ]
  }
 ],
 "metadata": {
  "kernelspec": {
   "display_name": "Python 3",
   "language": "python",
   "name": "python3"
  },
  "language_info": {
   "codemirror_mode": {
    "name": "ipython",
    "version": 3
   },
   "file_extension": ".py",
   "mimetype": "text/x-python",
   "name": "python",
   "nbconvert_exporter": "python",
   "pygments_lexer": "ipython3",
   "version": "3.8.8"
  }
 },
 "nbformat": 4,
 "nbformat_minor": 5
}
