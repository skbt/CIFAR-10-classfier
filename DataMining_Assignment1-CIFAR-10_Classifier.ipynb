{
 "cells": [
  {
   "cell_type": "markdown",
   "id": "10de1a7e",
   "metadata": {},
   "source": [
    "First we import the data and PyTorch libraries required"
   ]
  },
  {
   "cell_type": "code",
   "execution_count": null,
   "id": "fe806c38",
   "metadata": {},
   "outputs": [],
   "source": [
    "import torch\n",
    "import torchvision\n",
    "import torchvision.transforms as transforms"
   ]
  },
  {
   "cell_type": "markdown",
   "id": "4b7fdf64",
   "metadata": {},
   "source": [
    "After downloading and uploading the CIFAR-10 data images, we then divide the dataset into train and test sets."
   ]
  },
  {
   "cell_type": "code",
   "execution_count": null,
   "id": "532a0691",
   "metadata": {},
   "outputs": [],
   "source": [
    "transform = transforms.Compose(\n",
    "    [transforms.ToTensor(),\n",
    "     transforms.Normalize((0.5, 0.5, 0.5), (0.5, 0.5, 0.5))])\n",
    "\n",
    "batch_size = 4\n",
    "\n",
    "trainset = torchvision.datasets.CIFAR10(root='./data', train=True,\n",
    "                                        download=True, transform=transform)\n",
    "trainloader = torch.utils.data.DataLoader(trainset, batch_size=batch_size,\n",
    "                                          shuffle=True, num_workers=2)\n",
    "\n",
    "testset = torchvision.datasets.CIFAR10(root='./data', train=False,\n",
    "                                       download=True, transform=transform)\n",
    "testloader = torch.utils.data.DataLoader(testset, batch_size=batch_size,\n",
    "                                         shuffle=False, num_workers=2)\n",
    "\n",
    "classes = ('plane', 'car', 'bird', 'cat',\n",
    "           'deer', 'dog', 'frog', 'horse', 'ship', 'truck')"
   ]
  },
  {
   "cell_type": "markdown",
   "id": "cdaf4fa1",
   "metadata": {},
   "source": [
    "We get the following output."
   ]
  },
  {
   "cell_type": "markdown",
   "id": "19e80a39",
   "metadata": {},
   "source": [
    "Downloading https://www.cs.toronto.edu/~kriz/cifar-10-python.tar.gz to ./data/cifar-10-python.tar.gz\n",
    "Extracting ./data/cifar-10-python.tar.gz to ./data\n",
    "Files already downloaded and verified"
   ]
  },
  {
   "cell_type": "markdown",
   "id": "cbd2e502",
   "metadata": {},
   "source": [
    "Files already downloaded and verified\n",
    "Files already downloaded and verified"
   ]
  },
  {
   "cell_type": "markdown",
   "id": "6fbd2a7e",
   "metadata": {},
   "source": [
    "We can now test to see some of the images we downloaded."
   ]
  },
  {
   "cell_type": "code",
   "execution_count": null,
   "id": "783d7476",
   "metadata": {},
   "outputs": [],
   "source": [
    "import matplotlib.pyplot as plt\n",
    "import numpy as np\n",
    "\n",
    "def imshow(img):\n",
    "    img = img / 2 + 0.5 \n",
    "    npimg = img.numpy()\n",
    "    plt.imshow(np.transpose(npimg, (1, 2, 0)))\n",
    "    plt.show()\n",
    "\n",
    "dataiter = iter(trainloader)\n",
    "images, labels = dataiter.next()\n",
    "\n",
    "imshow(torchvision.utils.make_grid(images))\n",
    "print(' '.join('%5s' % classes[labels[j]] for j in range(batch_size)))"
   ]
  },
  {
   "cell_type": "markdown",
   "id": "4da46f93",
   "metadata": {},
   "source": [
    "We an output of some images and their classes"
   ]
  }
 ],
 "metadata": {
  "kernelspec": {
   "display_name": "Python 3",
   "language": "python",
   "name": "python3"
  },
  "language_info": {
   "codemirror_mode": {
    "name": "ipython",
    "version": 3
   },
   "file_extension": ".py",
   "mimetype": "text/x-python",
   "name": "python",
   "nbconvert_exporter": "python",
   "pygments_lexer": "ipython3",
   "version": "3.8.8"
  }
 },
 "nbformat": 4,
 "nbformat_minor": 5
}
